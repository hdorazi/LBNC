{
  "cells": [
    {
      "cell_type": "markdown",
      "metadata": {
        "id": "view-in-github",
        "colab_type": "text"
      },
      "source": [
        "<a href=\"https://colab.research.google.com/github/hdorazi/english-phonetics/blob/main/class-2024-fall_1101.ipynb\" target=\"_parent\"><img src=\"https://colab.research.google.com/assets/colab-badge.svg\" alt=\"Open In Colab\"/></a>"
      ]
    },
    {
      "cell_type": "markdown",
      "metadata": {
        "id": "87czmL6Bpk0V"
      },
      "source": [
        "---\n",
        "## Lecture 1: Connecting to Databases\n",
        "\n",
        "**Objective:** Learn how to install and connect to databases like MySQL and SQLite using Python.\n",
        "\n",
        "### Introduction\n",
        "- **Why Connect to Databases?**: In data analysis and manipulation, databases serve as repositories for structured data. Connecting to databases allows us to fetch, update, and manage this data programmatically using Python.\n",
        "\n",
        "### Code Demonstration"
      ]
    },
    {
      "cell_type": "code",
      "execution_count": 1,
      "metadata": {
        "id": "wCyKbPARp-bU",
        "colab": {
          "base_uri": "https://localhost:8080/"
        },
        "outputId": "57dd3886-d6a0-475f-b45a-e627070b6533"
      },
      "outputs": [
        {
          "output_type": "stream",
          "name": "stdout",
          "text": [
            "\r0% [Working]\r            \rHit:1 https://cloud.r-project.org/bin/linux/ubuntu jammy-cran40/ InRelease\n",
            "\r0% [Connecting to archive.ubuntu.com (185.125.190.81)] [Connecting to security.ubuntu.com] [Connecte\r                                                                                                    \rHit:2 http://security.ubuntu.com/ubuntu jammy-security InRelease\n",
            "\r0% [Waiting for headers] [Waiting for headers] [Waiting for headers] [Connected to ppa.launchpadcont\r                                                                                                    \rHit:3 https://developer.download.nvidia.com/compute/cuda/repos/ubuntu2204/x86_64  InRelease\n",
            "\r0% [Waiting for headers] [Waiting for headers] [Connected to ppa.launchpadcontent.net (185.125.190.8\r                                                                                                    \rIgn:4 https://r2u.stat.illinois.edu/ubuntu jammy InRelease\n",
            "\r                                                                                                    \r0% [Waiting for headers] [Connected to ppa.launchpadcontent.net (185.125.190.80)]\r                                                                                 \rHit:5 http://archive.ubuntu.com/ubuntu jammy InRelease\n",
            "Hit:6 https://r2u.stat.illinois.edu/ubuntu jammy Release\n",
            "Hit:7 http://archive.ubuntu.com/ubuntu jammy-updates InRelease\n",
            "Hit:8 http://archive.ubuntu.com/ubuntu jammy-backports InRelease\n",
            "Hit:9 https://ppa.launchpadcontent.net/deadsnakes/ppa/ubuntu jammy InRelease\n",
            "Hit:10 https://ppa.launchpadcontent.net/graphics-drivers/ppa/ubuntu jammy InRelease\n",
            "Hit:11 https://ppa.launchpadcontent.net/ubuntugis/ppa/ubuntu jammy InRelease\n",
            "Reading package lists... Done\n",
            "W: Skipping acquire of configured file 'main/source/Sources' as repository 'https://r2u.stat.illinois.edu/ubuntu jammy InRelease' does not seem to provide it (sources.list entry misspelt?)\n",
            "Reading package lists... Done\n",
            "Building dependency tree... Done\n",
            "Reading state information... Done\n",
            "mysql-server is already the newest version (8.0.39-0ubuntu0.22.04.1).\n",
            "0 upgraded, 0 newly installed, 0 to remove and 51 not upgraded.\n",
            " * Starting MySQL database server mysqld\n",
            "   ...done.\n"
          ]
        }
      ],
      "source": [
        "# Install MySQL Server\n",
        "!apt-get update  # google computer 운영체제 : ubuntu / ubuntu appstore : apt\n",
        "!apt-get install mysql-server\n",
        "\n",
        "# Start the MySQL service\n",
        "!service mysql start"
      ]
    },
    {
      "cell_type": "markdown",
      "source": [
        "powershell |\n",
        "'dir' |\n",
        "hirechy - [root(god)]"
      ],
      "metadata": {
        "id": "m1mdNUSxql_d"
      }
    },
    {
      "cell_type": "code",
      "execution_count": 2,
      "metadata": {
        "id": "6Ffr8RaIyxHG",
        "colab": {
          "base_uri": "https://localhost:8080/"
        },
        "outputId": "67fb1aad-7bcd-4c44-e239-d26a2071f6c9"
      },
      "outputs": [
        {
          "output_type": "stream",
          "name": "stdout",
          "text": [
            "Welcome to the MySQL monitor.  Commands end with ; or \\g.\n",
            "Your MySQL connection id is 12\n",
            "Server version: 8.0.39-0ubuntu0.22.04.1 (Ubuntu)\n",
            "\n",
            "Copyright (c) 2000, 2024, Oracle and/or its affiliates.\n",
            "\n",
            "Oracle is a registered trademark of Oracle Corporation and/or its\n",
            "affiliates. Other names may be trademarks of their respective\n",
            "owners.\n",
            "\n",
            "Type 'help;' or '\\h' for help. Type '\\c' to clear the current input statement.\n",
            "\n",
            "mysql> DROP USER IF EXISTS 'test'@'localhost'; CREATE USER 'test'@'localhost' IDENTIFIED WITH 'mysql \b_native_password' BY '1234'; GRANT ALL PRIVILEGES ON *.* TO 'test'@'localhost' WITH GRANT OPTION; FL \bUSH PRIVILEGES;\n",
            "Query OK, 0 rows affected, 1 warning (0.01 sec)\n",
            "\n",
            "Query OK, 0 rows affected (0.01 sec)\n",
            "\n",
            "Query OK, 0 rows affected (0.01 sec)\n",
            "\n",
            "Query OK, 0 rows affected (0.01 sec)\n",
            "\n",
            "mysql> DROP DATABASE IF EXISTS TestDataset; CREATE DATABASE TestDataset; CREATE TABLE TestDataset.Te \bstTable (     ID INT AUTO_INCREMENT PRIMARY KEY,     Name VARCHAR(255),     Age INT ); INSERT INTO T \bestDataset.TestTable (Name, Age) VALUES ('John', 30), ('Alice', 25), ('Bob', 35); exit;\n",
            "Query OK, 0 rows affected, 1 warning (0.00 sec)\n",
            "\n",
            "Query OK, 1 row affected (0.01 sec)\n",
            "\n",
            "Query OK, 0 rows affected (0.05 sec)\n",
            "\n",
            "Query OK, 3 rows affected (0.02 sec)\n",
            "Records: 3  Duplicates: 0  Warnings: 0\n",
            "\n",
            "Bye\n"
          ]
        }
      ],
      "source": [
        "# Log in to MySQL as root\n",
        "!mysql -u root"
      ]
    },
    {
      "cell_type": "markdown",
      "metadata": {
        "id": "-jHO9XvTtDvS"
      },
      "source": [
        "```mysql\n",
        "DROP USER IF EXISTS 'test'@'localhost'; # if test account comming from local host exits then 'drop(erase)' 같은 컴퓨터 안에서 이동하므로 localhost / from naver면 'localhost'-> naver.com\n",
        "CREATE USER 'test'@'localhost' IDENTIFIED WITH 'mysql_native_password' BY '1234'; # 계정 생성\n",
        "GRANT ALL PRIVILEGES ON *.* TO 'test'@'localhost' WITH GRANT OPTION;\n",
        "FLUSH PRIVILEGES; # test @ local host에게 모든 DB의 모든 테이블(*.*)에 대한 접근권한을 줌\n",
        "```"
      ]
    },
    {
      "cell_type": "markdown",
      "metadata": {
        "id": "-l4hzR8bytB_"
      },
      "source": [
        "```mysql\n",
        "DROP DATABASE IF EXISTS TestDataset;\n",
        "CREATE DATABASE TestDataset;\n",
        "CREATE TABLE TestDataset.TestTable ( # TestTable이란 이름으로 table 생성\n",
        "    ID INT AUTO_INCREMENT PRIMARY KEY, #auto_increment: 자동으로 순번(bookmarker) 달아줌\n",
        "    Name VARCHAR(255), # string\n",
        "    Age INT\n",
        ");\n",
        "INSERT INTO TestDataset.TestTable (Name, Age) VALUES\n",
        "('John', 30),\n",
        "('Alice', 25),\n",
        "('Bob', 35);  # create 3 rows -> result : 3 records\n",
        "exit;\n",
        "```"
      ]
    },
    {
      "cell_type": "code",
      "execution_count": 3,
      "metadata": {
        "id": "dQ_bGQ6Qx2Pc",
        "colab": {
          "base_uri": "https://localhost:8080/"
        },
        "outputId": "80bdb790-b8bc-4324-c55b-f1686a4a3e74"
      },
      "outputs": [
        {
          "output_type": "stream",
          "name": "stdout",
          "text": [
            "\u001b[33mWARNING: Skipping mysql-connector as it is not installed.\u001b[0m\u001b[33m\n",
            "\u001b[0m\u001b[33mWARNING: Skipping mysql-connector-python as it is not installed.\u001b[0m\u001b[33m\n",
            "\u001b[0mCollecting mysql-connector-python\n",
            "  Downloading mysql_connector_python-9.1.0-cp310-cp310-manylinux_2_28_x86_64.whl.metadata (6.0 kB)\n",
            "Downloading mysql_connector_python-9.1.0-cp310-cp310-manylinux_2_28_x86_64.whl (34.4 MB)\n",
            "\u001b[2K   \u001b[90m━━━━━━━━━━━━━━━━━━━━━━━━━━━━━━━━━━━━━━━━\u001b[0m \u001b[32m34.4/34.4 MB\u001b[0m \u001b[31m49.8 MB/s\u001b[0m eta \u001b[36m0:00:00\u001b[0m\n",
            "\u001b[?25hInstalling collected packages: mysql-connector-python\n",
            "Successfully installed mysql-connector-python-9.1.0\n"
          ]
        }
      ],
      "source": [
        "!pip uninstall mysql-connector\n",
        "!pip uninstall mysql-connector-python\n",
        "!pip install mysql-connector-python"
      ]
    },
    {
      "cell_type": "code",
      "execution_count": 4,
      "metadata": {
        "id": "ALdvUalBplGp"
      },
      "outputs": [],
      "source": [
        "# Import the necessary libraries\n",
        "import mysql.connector\n",
        "\n",
        "# Connect to MySQL (python 입장에서)\n",
        "mysql_conn = mysql.connector.connect( # 'mysql-conn' : mysql, python connection\n",
        "    host=\"localhost\",  # Database server address\n",
        "    user=\"test\",  # Database username\n",
        "    password=\"1234\",  # User's password\n",
        "    database=\"TestDataset\" # Name of the database\n",
        ")\n"
      ]
    },
    {
      "cell_type": "markdown",
      "metadata": {
        "id": "tQU6TsCRo8Nq"
      },
      "source": [
        "---\n",
        "## Lecture 2: Executing SQL Queries\n",
        "\n",
        "**Objective:** Learn how to execute SQL queries using Python.\n",
        "\n",
        "### Introduction\n",
        "- **Importance of SQL**: SQL (Structured Query Language) is used to interact with databases. Python can be used to execute SQL queries, making it a powerful tool for working with databases.\n",
        "\n",
        "### Code Demonstration"
      ]
    },
    {
      "cell_type": "code",
      "execution_count": 5,
      "metadata": {
        "id": "1ozq4u45psK5",
        "colab": {
          "base_uri": "https://localhost:8080/"
        },
        "outputId": "1ecdd66b-078e-4d70-9337-840c9beea075"
      },
      "outputs": [
        {
          "output_type": "stream",
          "name": "stdout",
          "text": [
            "[(1, 'John', 30), (2, 'Alice', 25), (3, 'Bob', 35)]\n"
          ]
        }
      ],
      "source": [
        "# Create a cursor object\n",
        "mysql_cursor = mysql_conn.cursor(buffered=True)\n",
        "\n",
        "# Execute SQL queries\n",
        "mysql_cursor.execute(\"SELECT * FROM TestDataset.TestTable\")\n",
        "\n",
        "# Fetch data from the queries\n",
        "mysql_result = mysql_cursor.fetchall()\n",
        "\n",
        "print(mysql_result)"
      ]
    },
    {
      "cell_type": "markdown",
      "metadata": {
        "id": "z8BMDJ8NptFG"
      },
      "source": [
        "\n",
        "---\n",
        "## Lecture 3: CRUD Operations\n",
        "\n",
        "**Objective:** Learn how to perform CRUD operations (Create, Read, Update, Delete) on a database using Python.\n",
        "\n",
        "### Introduction\n",
        "- **CRUD Operations**: CRUD stands for Create, Read, Update, and Delete. These are fundamental database operations used to manipulate data within a database.\n",
        "\n",
        "### Code Demonstration"
      ]
    },
    {
      "cell_type": "code",
      "execution_count": 10,
      "metadata": {
        "id": "JmWHwt8Hz3uJ",
        "colab": {
          "base_uri": "https://localhost:8080/"
        },
        "outputId": "cdf898e2-894d-43f1-b81e-2555d6793f7e"
      },
      "outputs": [
        {
          "output_type": "stream",
          "name": "stdout",
          "text": [
            "CREATE exampl: [(1, 'John', 30), (2, 'Alice', 25), (3, 'Bob', 35), (5, 'John Doe', 31), (6, 'John Doe', 31), (7, 'John Doe', 30)]\n",
            "READ example: (5, 'John Doe', 31)\n",
            "UPDATE example: [(1, 'John', 30), (2, 'Alice', 25), (3, 'Bob', 35), (5, 'John Doe', 31), (6, 'John Doe', 31), (7, 'John Doe', 31)]\n",
            "DELETE example: [(1, 'John', 30), (2, 'Alice', 25), (3, 'Bob', 35)]\n"
          ]
        }
      ],
      "source": [
        "# CREATE: Insert a new record\n",
        "mysql_cursor.execute(\"INSERT INTO TestDataset.TestTable (Name, Age) VALUES (%s, %s)\", (\"John Doe\", 30))\n",
        "mysql_cursor.execute(\"SELECT * FROM TestDataset.TestTable\")\n",
        "mysql_result = mysql_cursor.fetchall()\n",
        "print(f\"CREATE exampl: {mysql_result}\")\n",
        "\n",
        "# READ: Retrieve data\n",
        "mysql_cursor.execute(\"SELECT * FROM TestDataset.TestTable WHERE Name = 'John Doe'\")\n",
        "mysql_result = mysql_cursor.fetchone()  # john doe가 여럿있을 때 하나만 나온 이유: 'fetch one'이라서 'fetchall'하면 다 나옴\n",
        "print(f\"READ example: {mysql_result}\")\n",
        "\n",
        "\n",
        "# UPDATE: Update existing data\n",
        "mysql_cursor.execute(\"UPDATE TestDataset.TestTable SET Age = 31 WHERE Name = 'John Doe'\")\n",
        "mysql_cursor.execute(\"SELECT * FROM TestDataset.TestTable\")\n",
        "mysql_result = mysql_cursor.fetchall()\n",
        "print(f\"UPDATE example: {mysql_result}\")\n",
        "\n",
        "\n",
        "# DELETE: Delete data  # delete 주석 처리하고 실행 돌리면 john doe data 가 계속 생성\n",
        "mysql_cursor.execute(\"DELETE FROM TestDataset.TestTable WHERE Name = 'John Doe'\")\n",
        "mysql_cursor.execute(\"SELECT * FROM TestDataset.TestTable\")\n",
        "mysql_result = mysql_cursor.fetchall()\n",
        "print(f\"DELETE example: {mysql_result}\")\n"
      ]
    },
    {
      "cell_type": "markdown",
      "metadata": {
        "id": "mWTzIhivz5-f"
      },
      "source": [
        "---\n",
        "## Lecture 4: Working with Database Libraries\n",
        "\n",
        "**Objective:** Learn how to work with data using database libraries in Python.\n",
        "\n",
        "### Introduction\n",
        "- **Python Libraries**: Python offers several libraries and tools for data manipulation and analysis. We can leverage these libraries to work with database data effectively.\n",
        "\n",
        "### Code Demonstration\n"
      ]
    },
    {
      "cell_type": "code",
      "execution_count": 11,
      "metadata": {
        "id": "nBKkwKs60lOz",
        "colab": {
          "base_uri": "https://localhost:8080/"
        },
        "outputId": "743966e8-f9ec-420c-d9b8-6c691375edf7"
      },
      "outputs": [
        {
          "output_type": "stream",
          "name": "stdout",
          "text": [
            "   ID   Name  Age\n",
            "0   1   John   30\n",
            "1   2  Alice   25\n",
            "2   3    Bob   35\n",
            "30.0\n"
          ]
        }
      ],
      "source": [
        "# Using pandas for data manipulation\n",
        "import pandas as pd\n",
        "\n",
        "# Retrieve data from the database and create a DataFrame\n",
        "mysql_cursor.execute(\"SELECT * FROM TestDataset.TestTable\")\n",
        "data = mysql_cursor.fetchall()\n",
        "df = pd.DataFrame(data, columns=[\"ID\", \"Name\", \"Age\"])\n",
        "print(df)\n",
        "\n",
        "# Perform data analysis with pandas\n",
        "average_age = df[\"Age\"].mean()\n",
        "print(average_age)"
      ]
    }
  ],
  "metadata": {
    "colab": {
      "provenance": [],
      "include_colab_link": true
    },
    "kernelspec": {
      "display_name": "Python 3",
      "name": "python3"
    },
    "language_info": {
      "name": "python"
    }
  },
  "nbformat": 4,
  "nbformat_minor": 0
}